{
 "cells": [
  {
   "cell_type": "code",
   "execution_count": 11,
   "metadata": {},
   "outputs": [],
   "source": [
    "import pandas as pd\n",
    "import numpy as np\n",
    "import matplotlib.pyplot as plt\n",
    "from sklearn.preprocessing import OneHotEncoder, LabelEncoder\n",
    "from sklearn.compose import ColumnTransformer\n",
    "from sklearn.pipeline import Pipeline\n",
    "from sklearn.ensemble import RandomForestClassifier\n",
    "from sklearn.model_selection import train_test_split\n",
    "from sklearn.metrics import accuracy_score, classification_report, confusion_matrix\n",
    "import sqlite3\n",
    "import joblib\n"
   ]
  },
  {
   "cell_type": "code",
   "execution_count": 12,
   "metadata": {},
   "outputs": [],
   "source": [
    "betting_columns = [\n",
    "    'B365H', 'B365D', 'B365A',\n",
    "    'BWH',  'BWD',  'BWA',\n",
    "    'IWH',  'IWD',  'IWA',\n",
    "    'LBH',  'LBD',  'LBA',\n",
    "    'WHH',  'WHD',  'WHA',\n",
    "    'VCH',  'VCD',  'VCA'\n",
    "]\n",
    "match_columns = ['match_api_id', 'season', 'stage', 'date', \n",
    "                 'home_team_api_id', 'away_team_api_id', \n",
    "                 'home_team_goal', 'away_team_goal', \n",
    "                 'league_id'] + betting_columns\n",
    "team_columns = ['team_api_id', 'team_long_name', 'team_short_name']\n",
    "league_columns = ['id', 'name']"
   ]
  },
  {
   "cell_type": "code",
   "execution_count": 14,
   "metadata": {},
   "outputs": [],
   "source": [
    "conn = sqlite3.connect('database.sqlite')\n",
    "match_df = pd.read_sql(\"SELECT * FROM Match\", conn)[match_columns]\n",
    "team_df = pd.read_sql(\"SELECT * FROM Team\", conn)[team_columns]\n",
    "league_df = pd.read_sql(\"SELECT * FROM League\", conn)[league_columns]\n",
    "conn.close()"
   ]
  },
  {
   "cell_type": "code",
   "execution_count": 15,
   "metadata": {},
   "outputs": [
    {
     "name": "stdout",
     "output_type": "stream",
     "text": [
      "<class 'pandas.core.frame.DataFrame'>\n",
      "Index: 22432 entries, 0 to 24556\n",
      "Data columns (total 27 columns):\n",
      " #   Column            Non-Null Count  Dtype  \n",
      "---  ------            --------------  -----  \n",
      " 0   match_api_id      22432 non-null  int64  \n",
      " 1   season            22432 non-null  object \n",
      " 2   stage             22432 non-null  int64  \n",
      " 3   date              22432 non-null  object \n",
      " 4   home_team_api_id  22432 non-null  int64  \n",
      " 5   away_team_api_id  22432 non-null  int64  \n",
      " 6   home_team_goal    22432 non-null  int64  \n",
      " 7   away_team_goal    22432 non-null  int64  \n",
      " 8   league_id         22432 non-null  int64  \n",
      " 9   B365H             22432 non-null  float64\n",
      " 10  B365D             22432 non-null  float64\n",
      " 11  B365A             22432 non-null  float64\n",
      " 12  BWH               22432 non-null  float64\n",
      " 13  BWD               22432 non-null  float64\n",
      " 14  BWA               22432 non-null  float64\n",
      " 15  IWH               22432 non-null  float64\n",
      " 16  IWD               22432 non-null  float64\n",
      " 17  IWA               22432 non-null  float64\n",
      " 18  LBH               22432 non-null  float64\n",
      " 19  LBD               22432 non-null  float64\n",
      " 20  LBA               22432 non-null  float64\n",
      " 21  WHH               22432 non-null  float64\n",
      " 22  WHD               22432 non-null  float64\n",
      " 23  WHA               22432 non-null  float64\n",
      " 24  VCH               22432 non-null  float64\n",
      " 25  VCD               22432 non-null  float64\n",
      " 26  VCA               22432 non-null  float64\n",
      "dtypes: float64(18), int64(7), object(2)\n",
      "memory usage: 4.8+ MB\n"
     ]
    }
   ],
   "source": [
    "match_df.dropna(subset=betting_columns, inplace=True)\n",
    "match_df.info()"
   ]
  },
  {
   "cell_type": "code",
   "execution_count": 29,
   "metadata": {},
   "outputs": [
    {
     "name": "stdout",
     "output_type": "stream",
     "text": [
      "['KRC Genk', 'Beerschot AC', 'SV Zulte-Waregem', 'Sporting Lokeren', 'KSV Cercle Brugge', 'RSC Anderlecht', 'KAA Gent', 'RAEC Mons', 'FCV Dender EH', 'Standard de Liège', 'KV Mechelen', 'Club Brugge KV', 'KSV Roeselare', 'KV Kortrijk', 'Tubize', 'Royal Excel Mouscron', 'KVC Westerlo', 'Sporting Charleroi', 'Sint-Truidense VV', 'Lierse SK', 'KAS Eupen', 'Oud-Heverlee Leuven', 'Waasland-Beveren', 'KV Oostende', 'Manchester United', 'Newcastle United', 'Arsenal', 'West Bromwich Albion', 'Sunderland', 'Liverpool', 'West Ham United', 'Wigan Athletic', 'Aston Villa', 'Manchester City', 'Everton', 'Blackburn Rovers', 'Middlesbrough', 'Tottenham Hotspur', 'Bolton Wanderers', 'Stoke City', 'Hull City', 'Fulham', 'Chelsea', 'Portsmouth', 'Birmingham City', 'Wolverhampton Wanderers', 'Burnley', 'Blackpool', 'Swansea City', 'Queens Park Rangers', 'Norwich City', 'Southampton', 'Reading', 'Crystal Palace', 'Cardiff City', 'Leicester City', 'Bournemouth', 'Watford', 'AJ Auxerre', 'FC Nantes', 'Girondins de Bordeaux', 'SM Caen', 'Le Havre AC', 'OGC Nice', 'Le Mans FC', 'FC Lorient', 'Olympique Lyonnais', 'Toulouse FC', 'AS Monaco', 'Paris Saint-Germain', 'AS Nancy-Lorraine', 'LOSC Lille', 'Stade Rennais FC', 'Olympique de Marseille', 'FC Sochaux-Montbéliard', 'Grenoble Foot 38', 'Valenciennes FC', 'AS Saint-Étienne', 'RC Lens', 'Montpellier Hérault SC', \"US Boulogne Cote D'Opale\", 'AC Arles-Avignon', 'Stade Brestois 29', 'AC Ajaccio', 'Évian Thonon Gaillard FC', 'Dijon FCO', 'Stade de Reims', 'SC Bastia', 'ES Troyes AC', 'En Avant de Guingamp', 'FC Metz', 'Angers SCO', 'GFC Ajaccio', 'FC Bayern Munich', 'Hamburger SV', 'Bayer 04 Leverkusen', 'Borussia Dortmund', 'FC Schalke 04', 'Hannover 96', 'VfL Wolfsburg', '1. FC Köln', 'Eintracht Frankfurt', 'Hertha BSC Berlin', 'DSC Arminia Bielefeld', 'SV Werder Bremen', 'FC Energie Cottbus', 'TSG 1899 Hoffenheim', 'Borussia Mönchengladbach', 'VfB Stuttgart', 'Karlsruher SC', 'VfL Bochum', 'SC Freiburg', '1. FC Nürnberg', '1. FSV Mainz 05', '1. FC Kaiserslautern', 'FC St. Pauli', 'FC Augsburg', 'Fortuna Düsseldorf', 'SpVgg Greuther Fürth', 'Eintracht Braunschweig', 'SC Paderborn 07', 'FC Ingolstadt 04', 'SV Darmstadt 98', 'Atalanta', 'Siena', 'Cagliari', 'Lazio', 'Catania', 'Genoa', 'Chievo Verona', 'Reggio Calabria', 'Fiorentina', 'Juventus', 'Milan', 'Bologna', 'Roma', 'Napoli', 'Sampdoria', 'Inter', 'Torino', 'Lecce', 'Udinese', 'Palermo', 'Bari', 'Livorno', 'Parma', 'Cesena', 'Brescia', 'Novara', 'Pescara', 'Hellas Verona', 'Sassuolo', 'Empoli', 'Frosinone', 'Carpi', 'Vitesse', 'FC Groningen', 'Roda JC Kerkrade', 'FC Twente', 'Willem II', 'Ajax', 'N.E.C.', 'De Graafschap', 'FC Utrecht', 'PSV', 'Heracles Almelo', 'Feyenoord', 'Sparta Rotterdam', 'ADO Den Haag', 'FC Volendam', 'SC Heerenveen', 'AZ', 'NAC Breda', 'RKC Waalwijk', 'VVV-Venlo', 'Excelsior', 'PEC Zwolle', 'SC Cambuur', 'Go Ahead Eagles', 'FC Dordrecht', 'Wisła Kraków', 'Polonia Bytom', 'Ruch Chorzów', 'Legia Warszawa', 'P. Warszawa', 'Śląsk Wrocław', 'Lechia Gdańsk', 'Widzew Łódź', 'Odra Wodzisław', 'Lech Poznań', 'GKS Bełchatów', 'Arka Gdynia', 'Jagiellonia Białystok', 'Piast Gliwice', 'Cracovia', 'Korona Kielce', 'Zagłębie Lubin', 'Podbeskidzie Bielsko-Biała', 'Pogoń Szczecin', 'Zawisza Bydgoszcz', 'Górnik Łęczna', 'Termalica Bruk-Bet Nieciecza', 'FC Porto', 'CF Os Belenenses', 'Sporting CP', 'Trofense', 'Vitória Guimarães', 'Vitória Setúbal', 'FC Paços de Ferreira', 'SC Braga', 'Amadora', 'Académica de Coimbra', 'Rio Ave FC', 'SL Benfica', 'Leixões SC', 'CD Nacional', 'Naval 1° de Maio', 'CS Marítimo', 'União de Leiria, SAD', 'S.C. Olhanense', 'Portimonense', 'SC Beira Mar', 'Feirense', 'Gil Vicente FC', 'Moreirense FC', 'Estoril Praia', 'FC Arouca', 'FC Penafiel', 'Boavista FC', 'Uniao da Madeira', 'Tondela', 'Falkirk', 'Rangers', 'Heart of Midlothian', 'Motherwell', 'Kilmarnock', 'Hibernian', 'Aberdeen', 'Inverness Caledonian Thistle', 'Celtic', 'St. Mirren', 'Hamilton Academical FC', 'Dundee United', 'St. Johnstone FC', 'Dunfermline Athletic', 'Dundee FC', 'Ross County FC', 'Partick Thistle F.C.', 'Valencia CF', 'RCD Mallorca', 'CA Osasuna', 'Villarreal CF', 'RC Deportivo de La Coruña', 'Real Madrid CF', 'CD Numancia', 'FC Barcelona', 'Racing Santander', 'Sevilla FC', 'Real Sporting de Gijón', 'Getafe CF', 'Real Betis Balompié', 'RC Recreativo', 'RCD Espanyol', 'Real Valladolid', 'Athletic Club de Bilbao', 'UD Almería', 'Atlético Madrid', 'Málaga CF', 'Xerez Club Deportivo', 'Real Zaragoza', 'CD Tenerife', 'Hércules Club de Fútbol', 'Levante UD', 'Real Sociedad', 'Granada CF', 'Rayo Vallecano', 'RC Celta de Vigo', 'Elche CF', 'SD Eibar', 'Córdoba CF', 'UD Las Palmas', 'Grasshopper Club Zürich', 'AC Bellinzona', 'BSC Young Boys', 'FC Basel', 'FC Aarau', 'FC Sion', 'FC Luzern', 'FC Vaduz', 'Neuchâtel Xamax', 'FC Zürich', 'FC St. Gallen', 'FC Thun', 'Servette FC', 'FC Lausanne-Sports', 'Lugano']\n"
     ]
    }
   ],
   "source": [
    "teams = list(team_df['team_long_name'].unique())\n",
    "print(teams)"
   ]
  },
  {
   "cell_type": "code",
   "execution_count": 28,
   "metadata": {},
   "outputs": [
    {
     "name": "stdout",
     "output_type": "stream",
     "text": [
      "['Belgium Jupiler League' 'England Premier League' 'France Ligue 1'\n",
      " 'Germany 1. Bundesliga' 'Italy Serie A' 'Netherlands Eredivisie'\n",
      " 'Poland Ekstraklasa' 'Portugal Liga ZON Sagres' 'Scotland Premier League'\n",
      " 'Spain LIGA BBVA' 'Switzerland Super League']\n"
     ]
    }
   ],
   "source": [
    "leagues = league_df['name'].unique()\n",
    "print(leagues)"
   ]
  },
  {
   "cell_type": "code",
   "execution_count": 16,
   "metadata": {},
   "outputs": [],
   "source": [
    "# Merge team names (for home and away teams) into match_df\n",
    "match_df = match_df.merge(team_df, left_on='home_team_api_id', right_on='team_api_id', how='left') \\\n",
    "                   .rename(columns={'team_long_name': 'home_team_long_name',\n",
    "                                    'team_short_name': 'home_team_short_name'}) \\\n",
    "                   .drop('team_api_id', axis=1)\n",
    "\n",
    "match_df = match_df.merge(team_df, left_on='away_team_api_id', right_on='team_api_id', how='left') \\\n",
    "                   .rename(columns={'team_long_name': 'away_team_long_name',\n",
    "                                    'team_short_name': 'away_team_short_name'}) \\\n",
    "                   .drop('team_api_id', axis=1)\n",
    "\n",
    "# Merge league names\n",
    "match_df = match_df.merge(league_df, left_on='league_id', right_on='id', how='left') \\\n",
    "                   .rename(columns={'name': 'league_name'}) \\\n",
    "                   .drop('id', axis=1)\n",
    "\n",
    "# Convert date column to datetime and create additional features\n",
    "match_df['date'] = pd.to_datetime(match_df['date'])\n",
    "match_df['year'] = match_df['date'].dt.year\n",
    "match_df['goal_diff'] = match_df['home_team_goal'] - match_df['away_team_goal']"
   ]
  },
  {
   "cell_type": "code",
   "execution_count": 20,
   "metadata": {},
   "outputs": [],
   "source": [
    "match_df['match_result'] = match_df.apply(\n",
    "    lambda row: 'Home Win' if row['home_team_goal'] > row['away_team_goal']\n",
    "                else ('Away Win' if row['home_team_goal'] < row['away_team_goal']\n",
    "                      else 'Draw'),\n",
    "    axis=1\n",
    ")"
   ]
  },
  {
   "cell_type": "code",
   "execution_count": 21,
   "metadata": {},
   "outputs": [
    {
     "data": {
      "image/png": "[encoded data removed]",
      "text/plain": [
       "<Figure size 800x500 with 1 Axes>"
      ]
     },
     "metadata": {},
     "output_type": "display_data"
    }
   ],
   "source": [
    "plt.figure(figsize=(8, 5))\n",
    "match_df['match_result'].value_counts().plot(kind='bar')\n",
    "plt.title('Distribution of Match Outcomes')\n",
    "plt.xlabel('Outcome')\n",
    "plt.ylabel('Count')\n",
    "plt.show()"
   ]
  },
  {
   "cell_type": "code",
   "execution_count": 25,
   "metadata": {},
   "outputs": [],
   "source": [
    "# Filtering categorical and numeric columns\n",
    "cat_cols = ['home_team_long_name', 'away_team_long_name', 'league_name']\n",
    "num_cols = ['stage', 'year'] + betting_columns\n",
    "\n",
    "# Drop rows with missing odds or target\n",
    "match_df.dropna(subset=betting_columns + ['match_result'], inplace=True)\n",
    "\n",
    "# Encode the target (Draw / Home Win / Away Win) as integers\n",
    "le = LabelEncoder()\n",
    "match_df['result_encoded'] = le.fit_transform(match_df['match_result'])\n",
    "\n",
    "# Build preprocessing and model pipeline\n",
    "preprocessor = ColumnTransformer([\n",
    "    ('ohe', OneHotEncoder(handle_unknown='ignore', sparse_output=False), cat_cols),\n",
    "    ('num', 'passthrough',     num_cols)\n",
    "])\n",
    "\n",
    "pipeline = Pipeline([\n",
    "    ('prep', preprocessor),\n",
    "    ('clf', RandomForestClassifier(n_estimators=100, class_weight='balanced', random_state=42))\n",
    "])\n"
   ]
  },
  {
   "cell_type": "code",
   "execution_count": 26,
   "metadata": {},
   "outputs": [
    {
     "name": "stdout",
     "output_type": "stream",
     "text": [
      "Accuracy: 0.513372956909361\n",
      "\n",
      "Classification Report:\n",
      "               precision    recall  f1-score   support\n",
      "\n",
      "    Away Win       0.48      0.47      0.47      1938\n",
      "        Draw       0.29      0.10      0.15      1703\n",
      "    Home Win       0.56      0.77      0.65      3089\n",
      "\n",
      "    accuracy                           0.51      6730\n",
      "   macro avg       0.44      0.45      0.42      6730\n",
      "weighted avg       0.47      0.51      0.47      6730\n",
      "\n",
      "\n",
      "Confusion Matrix:\n",
      " [[ 905  174  859]\n",
      " [ 499  166 1038]\n",
      " [ 470  235 2384]]\n"
     ]
    }
   ],
   "source": [
    "# Train / test split\n",
    "X = match_df[cat_cols + num_cols]\n",
    "y = match_df['result_encoded']\n",
    "X_train, X_test, y_train, y_test = train_test_split(\n",
    "    X, y, test_size=0.3, stratify=y, random_state=42\n",
    ")\n",
    "\n",
    "# Train & evaluate\n",
    "pipeline.fit(X_train, y_train)\n",
    "y_pred = pipeline.predict(X_test)\n",
    "\n",
    "print(\"Accuracy:\", accuracy_score(y_test, y_pred))\n",
    "print(\"\\nClassification Report:\\n\", classification_report(y_test, y_pred, target_names=le.classes_))\n",
    "print(\"\\nConfusion Matrix:\\n\", confusion_matrix(y_test, y_pred))"
   ]
  },
  {
   "cell_type": "code",
   "execution_count": 27,
   "metadata": {},
   "outputs": [
    {
     "data": {
      "text/plain": [
       "['full_model.pkl']"
      ]
     },
     "execution_count": 27,
     "metadata": {},
     "output_type": "execute_result"
    }
   ],
   "source": [
    "# Saving the entire pipeline (preprocessing + model + label encoder)\n",
    "joblib.dump({\n",
    "    'pipeline': pipeline,\n",
    "    'label_encoder': le\n",
    "}, 'full_model.pkl')"
   ]
  },
  {
   "cell_type": "markdown",
   "metadata": {},
   "source": []
  }
 ],
 "metadata": {
  "kernelspec": {
   "display_name": "Python 3",
   "language": "python",
   "name": "python3"
  },
  "language_info": {
   "codemirror_mode": {
    "name": "ipython",
    "version": 3
   },
   "file_extension": ".py",
   "mimetype": "text/x-python",
   "name": "python",
   "nbconvert_exporter": "python",
   "pygments_lexer": "ipython3",
   "version": "3.12.3"
  }
 },
 "nbformat": 4,
 "nbformat_minor": 2
}
